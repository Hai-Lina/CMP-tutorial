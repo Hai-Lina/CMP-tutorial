{
 "cells": [
  {
   "cell_type": "markdown",
   "metadata": {
    "id": "zrULRKyGMH8o"
   },
   "source": [
    "# CMP STEP 5 & 6: Reducing Dimensionality & Clustering"
   ]
  },
  {
   "cell_type": "code",
   "execution_count": null,
   "metadata": {},
   "outputs": [],
   "source": [
    "import warnings\n",
    "warnings.filterwarnings(\"ignore\")"
   ]
  },
  {
   "cell_type": "code",
   "execution_count": null,
   "metadata": {
    "id": "NbZM_l6uOQ95"
   },
   "outputs": [],
   "source": [
    "import pandas as pd\n",
    "import numpy as np\n",
    "\n",
    "import umap\n",
    "import hdbscan\n",
    "\n",
    "import plotly.graph_objects as go\n",
    "from plotly.subplots import make_subplots"
   ]
  },
  {
   "cell_type": "code",
   "execution_count": null,
   "metadata": {},
   "outputs": [],
   "source": [
    "# random seed for umap embedding; restart kernel if resetting seed!\n",
    "RANDOM_STATE = # EX4.1 YOUR CODE HERE"
   ]
  },
  {
   "cell_type": "code",
   "execution_count": null,
   "metadata": {
    "id": "KFBSj2GMS9R-"
   },
   "outputs": [],
   "source": [
    "# use following parameters in evaluation loop if parameter not varying\n",
    "# !!! RESTART KERNEL WHEN SETTING NEW SEED - else UMAP results might be influenced by previous seed !!!\n",
    "\n",
    "# UMAP parameters\n",
    "N_NEIGHBORS = 30\n",
    "MIN_DIST = 0.01\n",
    "N_COMPONENTS = 30\n",
    "RANDOM_STATE = RANDOM_STATE\n",
    "\n",
    "# HDBSCAN parameters\n",
    "MIN_SAMPLES = 30\n",
    "MIN_CLUSTER_SIZE = 10"
   ]
  },
  {
   "cell_type": "markdown",
   "metadata": {
    "id": "wYaupGlCOodL"
   },
   "source": [
    "### Load strategy texts & embeddings"
   ]
  },
  {
   "cell_type": "code",
   "execution_count": null,
   "metadata": {
    "id": "RUGNfhJ6NvCl"
   },
   "outputs": [],
   "source": [
    "# load raw strategy sentences\n",
    "data = pd.read_csv('data/strategies_raw_en.csv')\n",
    "strategies = data['text'].tolist()"
   ]
  },
  {
   "cell_type": "code",
   "execution_count": null,
   "metadata": {
    "id": "MoZZgfwVnzMu"
   },
   "outputs": [],
   "source": [
    "# load strategy embeddings and convert to numpy array\n",
    "strategy_embeddings = np.load('data/your_strategy_embeddings_masked.npy')"
   ]
  },
  {
   "cell_type": "markdown",
   "metadata": {
    "id": "ADePNI8ES3w9"
   },
   "source": [
    "### Define evaluation & plotting function"
   ]
  },
  {
   "cell_type": "code",
   "execution_count": null,
   "metadata": {
    "id": "-bYT1_NNN57g"
   },
   "outputs": [],
   "source": [
    "def evaluation_loop(Ns=[10, 30, 50]):\n",
    "    \"\"\"evaluates UMAP in combination with HDBSCAN with different values for UMAP components\"\"\"\n",
    "    # Ns: values for UMAP components\n",
    "    # parameter n_neighbors of HDBSCAN will always vary between 10 and 50 in steps of five for each run \n",
    "\n",
    "    print('STARTING EVALUATION LOOP')\n",
    "    eval_dict = {}\n",
    "\n",
    "    for N in Ns:\n",
    "        N_eval_dict = {}\n",
    "\n",
    "        no_clusters = []\n",
    "        \n",
    "        print(f\"--- Embedding with UMAP into {N} dimensions (n_neighbors = {N_NEIGHBORS}) ---\")\n",
    "        mapper = umap.UMAP(n_neighbors=N_NEIGHBORS,\n",
    "                           min_dist=MIN_DIST,\n",
    "                           n_components=N,\n",
    "                           metric='cosine',\n",
    "                           random_state=RANDOM_STATE).fit(strategy_embeddings)\n",
    "\n",
    "        umap_embeddings = mapper.transform(strategy_embeddings)\n",
    "\n",
    "        print('Running HDBSCAN with ...')\n",
    "        for K in range(10, 51, 5):\n",
    "            print(f'... {K} nearest neighbors')\n",
    "\n",
    "            clusterer = hdbscan.HDBSCAN(min_samples=K,\n",
    "                                        min_cluster_size=MIN_CLUSTER_SIZE,\n",
    "                                        metric='euclidean',\n",
    "                                        gen_min_span_tree=True)\n",
    "\n",
    "            clusterer.fit(umap_embeddings)\n",
    "\n",
    "            no_clusters.append(clusterer.labels_.max() + 1)\n",
    "        \n",
    "        eval_dict[N] = no_clusters\n",
    "    \n",
    "    return eval_dict"
   ]
  },
  {
   "cell_type": "code",
   "execution_count": null,
   "metadata": {
    "id": "YhT0bKZAMiB7"
   },
   "outputs": [],
   "source": [
    "def plot_values(eval_dict):\n",
    "    \"\"\"plots number of clusters over combinations of UMAP & HDBSCAN parameters per evaluation run\"\"\"\n",
    "    # eval_dict: evaluation loop output\n",
    "\n",
    "    Ns = list(eval_dict.keys())\n",
    "    \n",
    "    subplot_titles = [f'UMAP_n = {Ns[0]}', f'UMAP_n = {Ns[1]}', f'UMAP_n = {Ns[2]}']\n",
    "\n",
    "    fig = make_subplots(rows=1, cols=3, subplot_titles=subplot_titles, shared_yaxes=True)\n",
    "\n",
    "    for N, col in zip(Ns, [1, 2, 3]):\n",
    "        fig.add_trace(go.Scatter(x=np.arange(10, 51, 5),\n",
    "                                 y=eval_dict[N],\n",
    "                                 mode='lines+markers'),\n",
    "                      row=1, col=col)\n",
    "\n",
    "    fig['layout']['xaxis']['title']= 'HDBSCAN_k'\n",
    "    fig['layout']['xaxis2']['title']= 'HDBSCAN_k'\n",
    "    fig['layout']['xaxis3']['title']= 'HDBSCAN_k'\n",
    "\n",
    "    fig['layout']['yaxis']['title']= 'number of clusters'\n",
    "\n",
    "    fig.update_layout(showlegend=False)\n",
    "    \n",
    "    return fig"
   ]
  },
  {
   "cell_type": "markdown",
   "metadata": {},
   "source": [
    "### Varying UMAP components over HDBSCAN k-nearest neighbors"
   ]
  },
  {
   "cell_type": "code",
   "execution_count": null,
   "metadata": {
    "colab": {
     "base_uri": "https://localhost:8080/"
    },
    "id": "meYAcEOjmdt9",
    "outputId": "484447ac-eed1-494c-87fc-582df17cc674"
   },
   "outputs": [],
   "source": [
    "# evaluate different components of UMAP embedding\n",
    "eval_dict = evaluation_loop(Ns= # EX4.2 YOUR CODE HERE )"
   ]
  },
  {
   "cell_type": "code",
   "execution_count": null,
   "metadata": {
    "colab": {
     "base_uri": "https://localhost:8080/",
     "height": 542
    },
    "id": "vOtgJvsZcscK",
    "outputId": "d0f63d10-0f04-46bd-aa28-623fc4507282"
   },
   "outputs": [],
   "source": [
    "# plot number of clusters found for UMAP embeddings with different number of components\n",
    "fig = plot_values(eval_dict)\n",
    "fig.show()"
   ]
  },
  {
   "cell_type": "code",
   "execution_count": null,
   "metadata": {},
   "outputs": [],
   "source": []
  }
 ],
 "metadata": {
  "colab": {
   "collapsed_sections": [],
   "name": "ClustER_UMAP_feat_HDBSCAN.ipynb",
   "provenance": []
  },
  "kernelspec": {
   "display_name": "Python 3 (ipykernel)",
   "language": "python",
   "name": "python3"
  },
  "language_info": {
   "codemirror_mode": {
    "name": "ipython",
    "version": 3
   },
   "file_extension": ".py",
   "mimetype": "text/x-python",
   "name": "python",
   "nbconvert_exporter": "python",
   "pygments_lexer": "ipython3",
   "version": "3.11.8"
  },
  "widgets": {
   "application/vnd.jupyter.widget-state+json": {
    "13ad6129c3af454bb1db2dcdb19e3c3f": {
     "model_module": "@jupyter-widgets/controls",
     "model_module_version": "1.5.0",
     "model_name": "FloatProgressModel",
     "state": {
      "_dom_classes": [],
      "_model_module": "@jupyter-widgets/controls",
      "_model_module_version": "1.5.0",
      "_model_name": "FloatProgressModel",
      "_view_count": null,
      "_view_module": "@jupyter-widgets/controls",
      "_view_module_version": "1.5.0",
      "_view_name": "ProgressView",
      "bar_style": "success",
      "description": "",
      "description_tooltip": null,
      "layout": "IPY_MODEL_df294223fb1e4e1f9c96ac1ba449076a",
      "max": 189,
      "min": 0,
      "orientation": "horizontal",
      "style": "IPY_MODEL_f2dc7f8f230f4e64b076716e5f327a4d",
      "value": 189
     }
    },
    "4940febc96024fe1a7b9bcc438982bb0": {
     "model_module": "@jupyter-widgets/controls",
     "model_module_version": "1.5.0",
     "model_name": "HTMLModel",
     "state": {
      "_dom_classes": [],
      "_model_module": "@jupyter-widgets/controls",
      "_model_module_version": "1.5.0",
      "_model_name": "HTMLModel",
      "_view_count": null,
      "_view_module": "@jupyter-widgets/controls",
      "_view_module_version": "1.5.0",
      "_view_name": "HTMLView",
      "description": "",
      "description_tooltip": null,
      "layout": "IPY_MODEL_8111d9cbe45e457dbbb0a1885b8d618c",
      "placeholder": "​",
      "style": "IPY_MODEL_806110fc66e242e3b8017a23df718843",
      "value": " 189/189 [00:16&lt;00:00, 22.90it/s]"
     }
    },
    "715335c00ad9443bbd97920f231d85d6": {
     "model_module": "@jupyter-widgets/controls",
     "model_module_version": "1.5.0",
     "model_name": "HTMLModel",
     "state": {
      "_dom_classes": [],
      "_model_module": "@jupyter-widgets/controls",
      "_model_module_version": "1.5.0",
      "_model_name": "HTMLModel",
      "_view_count": null,
      "_view_module": "@jupyter-widgets/controls",
      "_view_module_version": "1.5.0",
      "_view_name": "HTMLView",
      "description": "",
      "description_tooltip": null,
      "layout": "IPY_MODEL_d1b31f700fda47c790ec4d8b076669b0",
      "placeholder": "​",
      "style": "IPY_MODEL_7ca460c08d8c4ffe906d84bafe7530bd",
      "value": "Batches: 100%"
     }
    },
    "7ca460c08d8c4ffe906d84bafe7530bd": {
     "model_module": "@jupyter-widgets/controls",
     "model_module_version": "1.5.0",
     "model_name": "DescriptionStyleModel",
     "state": {
      "_model_module": "@jupyter-widgets/controls",
      "_model_module_version": "1.5.0",
      "_model_name": "DescriptionStyleModel",
      "_view_count": null,
      "_view_module": "@jupyter-widgets/base",
      "_view_module_version": "1.2.0",
      "_view_name": "StyleView",
      "description_width": ""
     }
    },
    "806110fc66e242e3b8017a23df718843": {
     "model_module": "@jupyter-widgets/controls",
     "model_module_version": "1.5.0",
     "model_name": "DescriptionStyleModel",
     "state": {
      "_model_module": "@jupyter-widgets/controls",
      "_model_module_version": "1.5.0",
      "_model_name": "DescriptionStyleModel",
      "_view_count": null,
      "_view_module": "@jupyter-widgets/base",
      "_view_module_version": "1.2.0",
      "_view_name": "StyleView",
      "description_width": ""
     }
    },
    "8111d9cbe45e457dbbb0a1885b8d618c": {
     "model_module": "@jupyter-widgets/base",
     "model_module_version": "1.2.0",
     "model_name": "LayoutModel",
     "state": {
      "_model_module": "@jupyter-widgets/base",
      "_model_module_version": "1.2.0",
      "_model_name": "LayoutModel",
      "_view_count": null,
      "_view_module": "@jupyter-widgets/base",
      "_view_module_version": "1.2.0",
      "_view_name": "LayoutView",
      "align_content": null,
      "align_items": null,
      "align_self": null,
      "border": null,
      "bottom": null,
      "display": null,
      "flex": null,
      "flex_flow": null,
      "grid_area": null,
      "grid_auto_columns": null,
      "grid_auto_flow": null,
      "grid_auto_rows": null,
      "grid_column": null,
      "grid_gap": null,
      "grid_row": null,
      "grid_template_areas": null,
      "grid_template_columns": null,
      "grid_template_rows": null,
      "height": null,
      "justify_content": null,
      "justify_items": null,
      "left": null,
      "margin": null,
      "max_height": null,
      "max_width": null,
      "min_height": null,
      "min_width": null,
      "object_fit": null,
      "object_position": null,
      "order": null,
      "overflow": null,
      "overflow_x": null,
      "overflow_y": null,
      "padding": null,
      "right": null,
      "top": null,
      "visibility": null,
      "width": null
     }
    },
    "d1b31f700fda47c790ec4d8b076669b0": {
     "model_module": "@jupyter-widgets/base",
     "model_module_version": "1.2.0",
     "model_name": "LayoutModel",
     "state": {
      "_model_module": "@jupyter-widgets/base",
      "_model_module_version": "1.2.0",
      "_model_name": "LayoutModel",
      "_view_count": null,
      "_view_module": "@jupyter-widgets/base",
      "_view_module_version": "1.2.0",
      "_view_name": "LayoutView",
      "align_content": null,
      "align_items": null,
      "align_self": null,
      "border": null,
      "bottom": null,
      "display": null,
      "flex": null,
      "flex_flow": null,
      "grid_area": null,
      "grid_auto_columns": null,
      "grid_auto_flow": null,
      "grid_auto_rows": null,
      "grid_column": null,
      "grid_gap": null,
      "grid_row": null,
      "grid_template_areas": null,
      "grid_template_columns": null,
      "grid_template_rows": null,
      "height": null,
      "justify_content": null,
      "justify_items": null,
      "left": null,
      "margin": null,
      "max_height": null,
      "max_width": null,
      "min_height": null,
      "min_width": null,
      "object_fit": null,
      "object_position": null,
      "order": null,
      "overflow": null,
      "overflow_x": null,
      "overflow_y": null,
      "padding": null,
      "right": null,
      "top": null,
      "visibility": null,
      "width": null
     }
    },
    "df294223fb1e4e1f9c96ac1ba449076a": {
     "model_module": "@jupyter-widgets/base",
     "model_module_version": "1.2.0",
     "model_name": "LayoutModel",
     "state": {
      "_model_module": "@jupyter-widgets/base",
      "_model_module_version": "1.2.0",
      "_model_name": "LayoutModel",
      "_view_count": null,
      "_view_module": "@jupyter-widgets/base",
      "_view_module_version": "1.2.0",
      "_view_name": "LayoutView",
      "align_content": null,
      "align_items": null,
      "align_self": null,
      "border": null,
      "bottom": null,
      "display": null,
      "flex": null,
      "flex_flow": null,
      "grid_area": null,
      "grid_auto_columns": null,
      "grid_auto_flow": null,
      "grid_auto_rows": null,
      "grid_column": null,
      "grid_gap": null,
      "grid_row": null,
      "grid_template_areas": null,
      "grid_template_columns": null,
      "grid_template_rows": null,
      "height": null,
      "justify_content": null,
      "justify_items": null,
      "left": null,
      "margin": null,
      "max_height": null,
      "max_width": null,
      "min_height": null,
      "min_width": null,
      "object_fit": null,
      "object_position": null,
      "order": null,
      "overflow": null,
      "overflow_x": null,
      "overflow_y": null,
      "padding": null,
      "right": null,
      "top": null,
      "visibility": null,
      "width": null
     }
    },
    "f2dc7f8f230f4e64b076716e5f327a4d": {
     "model_module": "@jupyter-widgets/controls",
     "model_module_version": "1.5.0",
     "model_name": "ProgressStyleModel",
     "state": {
      "_model_module": "@jupyter-widgets/controls",
      "_model_module_version": "1.5.0",
      "_model_name": "ProgressStyleModel",
      "_view_count": null,
      "_view_module": "@jupyter-widgets/base",
      "_view_module_version": "1.2.0",
      "_view_name": "StyleView",
      "bar_color": null,
      "description_width": ""
     }
    },
    "f4c1af507a3e4879a7503b9c5fb97abf": {
     "model_module": "@jupyter-widgets/base",
     "model_module_version": "1.2.0",
     "model_name": "LayoutModel",
     "state": {
      "_model_module": "@jupyter-widgets/base",
      "_model_module_version": "1.2.0",
      "_model_name": "LayoutModel",
      "_view_count": null,
      "_view_module": "@jupyter-widgets/base",
      "_view_module_version": "1.2.0",
      "_view_name": "LayoutView",
      "align_content": null,
      "align_items": null,
      "align_self": null,
      "border": null,
      "bottom": null,
      "display": null,
      "flex": null,
      "flex_flow": null,
      "grid_area": null,
      "grid_auto_columns": null,
      "grid_auto_flow": null,
      "grid_auto_rows": null,
      "grid_column": null,
      "grid_gap": null,
      "grid_row": null,
      "grid_template_areas": null,
      "grid_template_columns": null,
      "grid_template_rows": null,
      "height": null,
      "justify_content": null,
      "justify_items": null,
      "left": null,
      "margin": null,
      "max_height": null,
      "max_width": null,
      "min_height": null,
      "min_width": null,
      "object_fit": null,
      "object_position": null,
      "order": null,
      "overflow": null,
      "overflow_x": null,
      "overflow_y": null,
      "padding": null,
      "right": null,
      "top": null,
      "visibility": null,
      "width": null
     }
    },
    "f4e8f4ac221a477caece692e3bba87d4": {
     "model_module": "@jupyter-widgets/controls",
     "model_module_version": "1.5.0",
     "model_name": "HBoxModel",
     "state": {
      "_dom_classes": [],
      "_model_module": "@jupyter-widgets/controls",
      "_model_module_version": "1.5.0",
      "_model_name": "HBoxModel",
      "_view_count": null,
      "_view_module": "@jupyter-widgets/controls",
      "_view_module_version": "1.5.0",
      "_view_name": "HBoxView",
      "box_style": "",
      "children": [
       "IPY_MODEL_715335c00ad9443bbd97920f231d85d6",
       "IPY_MODEL_13ad6129c3af454bb1db2dcdb19e3c3f",
       "IPY_MODEL_4940febc96024fe1a7b9bcc438982bb0"
      ],
      "layout": "IPY_MODEL_f4c1af507a3e4879a7503b9c5fb97abf"
     }
    }
   }
  }
 },
 "nbformat": 4,
 "nbformat_minor": 4
}
