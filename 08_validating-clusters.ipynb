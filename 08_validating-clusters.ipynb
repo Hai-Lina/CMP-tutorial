{
 "cells": [
  {
   "cell_type": "markdown",
   "id": "e989e363",
   "metadata": {},
   "source": [
    "# CMP STEP 8: Validating Clusters"
   ]
  },
  {
   "cell_type": "code",
   "execution_count": null,
   "id": "387b9d1e",
   "metadata": {},
   "outputs": [],
   "source": [
    "import numpy as np\n",
    "import pandas as pd\n",
    "\n",
    "import matplotlib.pyplot as plt"
   ]
  },
  {
   "cell_type": "code",
   "execution_count": null,
   "id": "b8b10edc-016d-4317-8656-9178b2e42ac6",
   "metadata": {},
   "outputs": [],
   "source": [
    "# load previously computed intrusion task solution\n",
    "intrusion_solution = pd.read_csv('intrusion/intrusion_survey_results.txt')"
   ]
  },
  {
   "cell_type": "code",
   "execution_count": null,
   "id": "dd367948",
   "metadata": {},
   "outputs": [],
   "source": [
    "# plot fraction of found intruders per cluster (bar plot)\n",
    "frac_overall = intrusion_solution[' Fraction'].tolist()\n",
    "\n",
    "fig, ax = plt.subplots(figsize=(18, 6))\n",
    "\n",
    "for pos in ('top', 'right', 'bottom', 'left'):\n",
    "    ax.spines[pos].set_visible(False)\n",
    "\n",
    "c = ['cornflowerblue'] * len(frac_overall)\n",
    "y_pos = np.arange(len(frac_overall))\n",
    "\n",
    "ax.set_facecolor('ghostwhite')\n",
    "ax.bar(y_pos, frac_overall, align='center', color=c)\n",
    "ax.grid(axis='y', color='lightgrey', linewidth=1)\n",
    "ax.set_axisbelow(True)\n",
    "ax.set_xticks(y_pos, labels=np.arange(1, len(frac_overall)+1))\n",
    "ax.set_ylabel('Fraction of found intruders', fontsize=14)\n",
    "ax.set_xlabel('Cluster number', fontsize=14)\n",
    "\n",
    "# EX6.2 YOUR CODE HERE\n",
    "\n",
    "plt.show()"
   ]
  },
  {
   "cell_type": "code",
   "execution_count": null,
   "id": "2dfb1027",
   "metadata": {},
   "outputs": [],
   "source": []
  }
 ],
 "metadata": {
  "kernelspec": {
   "display_name": "Python 3 (ipykernel)",
   "language": "python",
   "name": "python3"
  },
  "language_info": {
   "codemirror_mode": {
    "name": "ipython",
    "version": 3
   },
   "file_extension": ".py",
   "mimetype": "text/x-python",
   "name": "python",
   "nbconvert_exporter": "python",
   "pygments_lexer": "ipython3",
   "version": "3.11.8"
  }
 },
 "nbformat": 4,
 "nbformat_minor": 5
}
