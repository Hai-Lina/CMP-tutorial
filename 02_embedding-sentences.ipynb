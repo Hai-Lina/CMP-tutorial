{
 "cells": [
  {
   "cell_type": "markdown",
   "id": "76c48cbc",
   "metadata": {},
   "source": [
    "# CMP STEP 2: Embedding Sentences"
   ]
  },
  {
   "cell_type": "code",
   "execution_count": null,
   "id": "9c58aa91-5c77-44b7-9618-7cf391ab149a",
   "metadata": {},
   "outputs": [],
   "source": [
    "import warnings\n",
    "warnings.filterwarnings(\"ignore\")"
   ]
  },
  {
   "cell_type": "code",
   "execution_count": null,
   "id": "c2ca10fe",
   "metadata": {},
   "outputs": [],
   "source": [
    "# EX1.1 YOUR CODE HERE\n",
    "# Sentence transformers documentation: https://www.sbert.net/index.html\n",
    "\n",
    "import numpy as np\n",
    "import pandas as pd"
   ]
  },
  {
   "cell_type": "markdown",
   "id": "c05659c0",
   "metadata": {},
   "source": [
    "### Load transformer model"
   ]
  },
  {
   "cell_type": "code",
   "execution_count": null,
   "id": "f2da41f9",
   "metadata": {},
   "outputs": [],
   "source": [
    "# load sentence transformer model\n",
    "# https://huggingface.co/sentence-transformers/stsb-mpnet-base-v2\n",
    "model = # EX1.2 YOUR CODE HERE"
   ]
  },
  {
   "cell_type": "markdown",
   "id": "06a09817",
   "metadata": {},
   "source": [
    "### Embed raw strategy sentences & save to file"
   ]
  },
  {
   "cell_type": "code",
   "execution_count": null,
   "id": "5c001f97",
   "metadata": {},
   "outputs": [],
   "source": [
    "# load raw strategy sentences\n",
    "data = # EX1.3 YOUR CODE HERE\n",
    "strategies = # EX1.4 YOUR CODE HERE"
   ]
  },
  {
   "cell_type": "code",
   "execution_count": null,
   "id": "baf88081",
   "metadata": {},
   "outputs": [],
   "source": [
    "# embed strategy sentences\n",
    "strategy_embeddings = # EX1.5 YOUR CODE HERE"
   ]
  },
  {
   "cell_type": "code",
   "execution_count": null,
   "id": "32662909",
   "metadata": {},
   "outputs": [],
   "source": [
    "# save strategy embeddings to file\n",
    "np.save('data/your_strategy_embeddings', strategy_embeddings)"
   ]
  },
  {
   "cell_type": "code",
   "execution_count": null,
   "id": "42a86ece",
   "metadata": {},
   "outputs": [],
   "source": []
  }
 ],
 "metadata": {
  "kernelspec": {
   "display_name": "Python 3 (ipykernel)",
   "language": "python",
   "name": "python3"
  },
  "language_info": {
   "codemirror_mode": {
    "name": "ipython",
    "version": 3
   },
   "file_extension": ".py",
   "mimetype": "text/x-python",
   "name": "python",
   "nbconvert_exporter": "python",
   "pygments_lexer": "ipython3",
   "version": "3.11.8"
  }
 },
 "nbformat": 4,
 "nbformat_minor": 5
}
