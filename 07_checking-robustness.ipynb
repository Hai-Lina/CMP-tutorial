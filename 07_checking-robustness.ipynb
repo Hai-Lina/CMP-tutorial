{
 "cells": [
  {
   "cell_type": "markdown",
   "id": "6ee0a589",
   "metadata": {},
   "source": [
    "# CMP STEP 7: Checking Robustness"
   ]
  },
  {
   "cell_type": "code",
   "execution_count": null,
   "id": "7a681472",
   "metadata": {},
   "outputs": [],
   "source": [
    "import numpy as np\n",
    "import pandas as pd\n",
    "import random\n",
    "\n",
    "import matplotlib.pyplot as plt"
   ]
  },
  {
   "cell_type": "code",
   "execution_count": null,
   "id": "cfdf6f01",
   "metadata": {},
   "outputs": [],
   "source": [
    "# import results saved from robustness check\n",
    "random_seeds = np.load('robustness_check/random_seeds.npy')\n",
    "no_clusters = np.load('robustness_check/no_clusters.npy')"
   ]
  },
  {
   "cell_type": "markdown",
   "id": "6071dadc",
   "metadata": {},
   "source": [
    "### Examine: Number of clusters"
   ]
  },
  {
   "cell_type": "code",
   "execution_count": null,
   "id": "175ec566",
   "metadata": {},
   "outputs": [],
   "source": [
    "# print distribution of cluster numbers\n",
    "# EX5.1 YOUR CODE HERE"
   ]
  },
  {
   "cell_type": "code",
   "execution_count": null,
   "id": "d7133167-62d2-4abb-a83f-53ff8c0afb45",
   "metadata": {},
   "outputs": [],
   "source": [
    "# plot histogram for your sanity check\n",
    "\n",
    "fig, ax = plt.subplots(1, 1, figsize=(14, 6), sharey='row')\n",
    "\n",
    "ax.set_facecolor('ghostwhite')\n",
    "ax.grid(axis='y', color='lightgrey')\n",
    "\n",
    "for pos in ('top', 'right', 'bottom', 'left'):\n",
    "    ax.spines[pos].set_visible(False)\n",
    "\n",
    "ax.hist(no_clusters, bins=np.arange(0, 46, 1), align='left', color='cornflowerblue', rwidth=0.9)\n",
    "\n",
    "ax.set_xticks(np.arange(0, 46, 5))\n",
    "ax.set_xlabel('Frequency', fontsize=12)\n",
    "ax.set_ylabel('Number of clusters', fontsize=12)\n",
    "ax.set_title('Number of clusters over 1000 different runs', fontsize=12)\n",
    "\n",
    "plt.show()"
   ]
  },
  {
   "cell_type": "markdown",
   "id": "6f8cd444",
   "metadata": {},
   "source": [
    "### Choose final UMAP random seed"
   ]
  },
  {
   "cell_type": "code",
   "execution_count": null,
   "id": "ffd5c28b",
   "metadata": {},
   "outputs": [],
   "source": [
    "# randomly choose random seed that produces majority number of clusters\n",
    "random.choice(random_seeds[np.where(no_clusters == # EX5.2 YOUR CODE HERE )])"
   ]
  },
  {
   "cell_type": "code",
   "execution_count": null,
   "id": "e3f7980c-a402-4d05-b976-fa7ec617a3fe",
   "metadata": {},
   "outputs": [],
   "source": []
  }
 ],
 "metadata": {
  "kernelspec": {
   "display_name": "Python 3 (ipykernel)",
   "language": "python",
   "name": "python3"
  },
  "language_info": {
   "codemirror_mode": {
    "name": "ipython",
    "version": 3
   },
   "file_extension": ".py",
   "mimetype": "text/x-python",
   "name": "python",
   "nbconvert_exporter": "python",
   "pygments_lexer": "ipython3",
   "version": "3.11.8"
  }
 },
 "nbformat": 4,
 "nbformat_minor": 5
}
