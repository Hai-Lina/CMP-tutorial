{
 "cells": [
  {
   "cell_type": "markdown",
   "id": "76c48cbc",
   "metadata": {},
   "source": [
    "# CMP STEP 4: Reducing Item Bias"
   ]
  },
  {
   "cell_type": "code",
   "execution_count": null,
   "id": "c2ca10fe",
   "metadata": {},
   "outputs": [],
   "source": [
    "from sentence_transformers import SentenceTransformer\n",
    "\n",
    "import numpy as np\n",
    "import pandas as pd\n",
    "import re"
   ]
  },
  {
   "cell_type": "markdown",
   "id": "368cf241",
   "metadata": {},
   "source": [
    "### Load original strategy texts"
   ]
  },
  {
   "cell_type": "code",
   "execution_count": null,
   "id": "6e12ded0",
   "metadata": {},
   "outputs": [],
   "source": [
    "data = pd.read_csv('data/strategies_raw_en.csv')"
   ]
  },
  {
   "cell_type": "markdown",
   "id": "cac74009",
   "metadata": {},
   "source": [
    "### Load transformer model"
   ]
  },
  {
   "cell_type": "code",
   "execution_count": null,
   "id": "f2da41f9",
   "metadata": {},
   "outputs": [],
   "source": [
    "# load sentence transformer model\n",
    "# https://huggingface.co/sentence-transformers/stsb-mpnet-base-v2\n",
    "model = SentenceTransformer('sentence-transformers/stsb-mpnet-base-v2')"
   ]
  },
  {
   "cell_type": "markdown",
   "id": "a4e041f2",
   "metadata": {},
   "source": [
    "### Mask sentences, embed & save to file"
   ]
  },
  {
   "cell_type": "code",
   "execution_count": null,
   "id": "6ca79cbf",
   "metadata": {},
   "outputs": [],
   "source": [
    "# create dictionary of topic words per item\n",
    "masks = {1: ['information', 'schedule'],\n",
    "         2: # EX3.2 YOUR CODE HERE\n",
    "         3: # EX3.2 YOUR CODE HERE\n",
    "         4: # EX3.2 YOUR CODE HERE\n",
    "         5: # EX3.2 YOUR CODE HERE\n",
    "         6: # EX3.2 YOUR CODE HERE\n",
    "         7: # EX3.2 YOUR CODE HERE\n",
    "         8: # EX3.2 YOUR CODE HERE\n",
    "         9: # EX3.2 YOUR CODE HERE\n",
    "        }"
   ]
  },
  {
   "cell_type": "code",
   "execution_count": null,
   "id": "453d8fa9",
   "metadata": {},
   "outputs": [],
   "source": [
    "# initialize empty dataframe\n",
    "data_masked = pd.DataFrame(columns=['text', 'item'])"
   ]
  },
  {
   "cell_type": "code",
   "execution_count": null,
   "id": "2d378b91",
   "metadata": {},
   "outputs": [],
   "source": [
    "# populate dataframe with masked strategy texts & item numbers\n",
    "for i in range(len(data)):\n",
    "    strategy_new = data.iloc[i]['text']\n",
    "    for mask in masks[data.iloc[i]['item']]:\n",
    "        strategy_new = re.sub(mask, '[MASK]', strategy_new)\n",
    "    data_masked.loc[i] = [strategy_new, data.iloc[i]['item']]"
   ]
  },
  {
   "cell_type": "code",
   "execution_count": null,
   "id": "a4daf487",
   "metadata": {},
   "outputs": [],
   "source": [
    "# embed masked strategy sentences\n",
    "strategy_embeddings_masked = model.encode(data_masked['text'].tolist(), show_progress_bar=True)"
   ]
  },
  {
   "cell_type": "code",
   "execution_count": null,
   "id": "efb7c096",
   "metadata": {},
   "outputs": [],
   "source": [
    "# save masked strategy embeddings to file\n",
    "np.save('data/your_strategy_embeddings_masked', strategy_embeddings_masked)"
   ]
  },
  {
   "cell_type": "code",
   "execution_count": null,
   "id": "42a86ece",
   "metadata": {},
   "outputs": [],
   "source": []
  }
 ],
 "metadata": {
  "kernelspec": {
   "display_name": "Python 3 (ipykernel)",
   "language": "python",
   "name": "python3"
  },
  "language_info": {
   "codemirror_mode": {
    "name": "ipython",
    "version": 3
   },
   "file_extension": ".py",
   "mimetype": "text/x-python",
   "name": "python",
   "nbconvert_exporter": "python",
   "pygments_lexer": "ipython3",
   "version": "3.11.8"
  }
 },
 "nbformat": 4,
 "nbformat_minor": 5
}
