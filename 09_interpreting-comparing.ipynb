{
 "cells": [
  {
   "cell_type": "markdown",
   "metadata": {},
   "source": [
    "# CMP STEP 9: Interpreting & Comparing"
   ]
  },
  {
   "cell_type": "code",
   "execution_count": null,
   "metadata": {},
   "outputs": [],
   "source": [
    "import warnings\n",
    "warnings.filterwarnings(\"ignore\")"
   ]
  },
  {
   "cell_type": "code",
   "execution_count": null,
   "metadata": {
    "id": "NbZM_l6uOQ95"
   },
   "outputs": [],
   "source": [
    "import pandas as pd\n",
    "import numpy as np\n",
    "\n",
    "import umap\n",
    "import hdbscan \n",
    "\n",
    "from bokeh.plotting import figure, show\n",
    "from bokeh.transform import factor_cmap\n",
    "from bokeh.palettes import Turbo256\n",
    "from bokeh.models import HoverTool"
   ]
  },
  {
   "cell_type": "code",
   "execution_count": null,
   "metadata": {},
   "outputs": [],
   "source": [
    "### UMAP final parameters ###\n",
    "N_NEIGHBORS = 30\n",
    "MIN_DIST = 0.01\n",
    "N_COMPONENTS = 30\n",
    "RANDOM_STATE = 86531\n",
    "\n",
    "### HDBSCAN final parameters ###\n",
    "MIN_SAMPLES = 30\n",
    "MIN_CLUSTER_SIZE = 10"
   ]
  },
  {
   "cell_type": "markdown",
   "metadata": {
    "id": "wYaupGlCOodL"
   },
   "source": [
    "### Load strategy texts & embeddings"
   ]
  },
  {
   "cell_type": "code",
   "execution_count": null,
   "metadata": {
    "id": "RUGNfhJ6NvCl"
   },
   "outputs": [],
   "source": [
    "# load raw strategy sentences\n",
    "data = pd.read_csv('data/strategies_raw_en.csv')\n",
    "strategies = data['text'].tolist()"
   ]
  },
  {
   "cell_type": "code",
   "execution_count": null,
   "metadata": {
    "id": "RIiKUA4qNw3s"
   },
   "outputs": [],
   "source": [
    "# load strategy embeddings and convert to numpy array\n",
    "strategy_embeddings = np.load('data/strategy_embeddings_masked.npy')"
   ]
  },
  {
   "cell_type": "markdown",
   "metadata": {},
   "source": [
    "### Define embedding & plotting functions"
   ]
  },
  {
   "cell_type": "code",
   "execution_count": null,
   "metadata": {
    "colab": {
     "base_uri": "https://localhost:8080/"
    },
    "id": "SgvV7t8KTDOR",
    "outputId": "8abdb19f-2b97-4830-aab9-1a2fb5b69808"
   },
   "outputs": [],
   "source": [
    "def umap_hdbscan(embeds=strategy_embeddings,\n",
    "                 n_neighbors=N_NEIGHBORS,\n",
    "                 min_dist=MIN_DIST,\n",
    "                 n_components=N_COMPONENTS,\n",
    "                 random_state=RANDOM_STATE,\n",
    "                 min_cluster_size=MIN_CLUSTER_SIZE,\n",
    "                 min_samples=MIN_SAMPLES):\n",
    "    \n",
    "    umap_embed_fin = np.load(f'data/umap_embeddings_seed-{RANDOM_STATE}-(final).npy')\n",
    "\n",
    "    hdbscan_fin = hdbscan.HDBSCAN(min_cluster_size=min_cluster_size,\n",
    "                                  min_samples=min_samples,\n",
    "                                  metric='euclidean')\n",
    "\n",
    "    hdbscan_fin.fit(umap_embed_fin)\n",
    "    \n",
    "    return hdbscan_fin\n",
    "\n",
    "\n",
    "def umap_2D(embeds=strategy_embeddings):\n",
    "    # reduce dimensions further to 2D for plotting\n",
    "    umap_2D = umap.UMAP(n_neighbors=N_NEIGHBORS,\n",
    "                        min_dist=MIN_DIST,\n",
    "                        n_components=2,\n",
    "                        metric='cosine',\n",
    "                        random_state=RANDOM_STATE).fit(embeds)\n",
    "\n",
    "    umap_2D_embed = umap_2D.transform(embeds)\n",
    "    \n",
    "    return umap_2D_embed\n",
    "\n",
    "\n",
    "def plot_ER_atlas(umap_2D, hdbscan, x_range, y_range):\n",
    "    # create df with plotting data for bokeh interactive plot\n",
    "    clusters = np.delete(umap_2D, np.where(hdbscan.labels_ == -1)[0], axis=0)\n",
    "    cluster_labels = hdbscan.labels_[hdbscan.labels_ != -1]\n",
    "    noise = np.delete(umap_2D, np.where(hdbscan.labels_ != -1)[0], axis=0)\n",
    "\n",
    "    cluster_df = pd.DataFrame()\n",
    "    cluster_df['x'] = clusters[:,0]\n",
    "    cluster_df['y'] = clusters[:,1]\n",
    "    cluster_df['labels'] = [str(label) for label in cluster_labels]\n",
    "    cluster_df['strategy_text'] = np.delete(strategies, np.where(hdbscan.labels_ == -1)[0])\n",
    "\n",
    "    noise_df = pd.DataFrame()\n",
    "    noise_df['x'] = noise[:,0]\n",
    "    noise_df['y'] = noise[:,1]\n",
    "    noise_df['strategy_text'] = np.delete(strategies, np.where(hdbscan.labels_ != -1)[0])\n",
    "    \n",
    "    # create interactive bokeh plot of ER strategy clusters\n",
    "    no_clusters = (max(cluster_labels) + 1)\n",
    "    step = int(np.floor(len(Turbo256) / no_clusters)) \n",
    "    colors = Turbo256[::step][:no_clusters]\n",
    "    \n",
    "    p = figure(x_range=x_range, y_range=y_range, width=900, height=600, tools=['pan', 'wheel_zoom', 'reset', 'hover'])\n",
    "               #, title='Landscape of Emotion Regulation Strategies')\n",
    "    p.scatter(x='x', y='y', source=cluster_df, size=4, fill_alpha=0.5, color=factor_cmap('labels', colors, list(set(cluster_df['labels']))))\n",
    "    p.scatter(x='x', y='y', source=noise_df, size=4, fill_alpha=0.5, color='#B3CCCC', marker='cross')\n",
    "    p.xgrid.visible = False\n",
    "    p.ygrid.visible = False\n",
    "    p.xaxis.visible = False\n",
    "    p.yaxis.visible = False\n",
    "    p.title.align = 'center'\n",
    "    p.background_fill_color = '#F0F5F5'\n",
    "    hover = p.select(dict(type=HoverTool))\n",
    "    hover.tooltips = [('Text', '@strategy_text')]\n",
    "    \n",
    "    p.output_backend = \"svg\"\n",
    "    p.background_fill_color = None\n",
    "    p.border_fill_color = None\n",
    "        \n",
    "    return p"
   ]
  },
  {
   "cell_type": "markdown",
   "metadata": {
    "id": "IpG3b5wUipPa"
   },
   "source": [
    "### Compute final UMAP & HDBSCAN combination and plot"
   ]
  },
  {
   "cell_type": "code",
   "execution_count": null,
   "metadata": {},
   "outputs": [],
   "source": [
    "# compute UMAP & HDBSCAN solution\n",
    "hdbscan_fin = umap_hdbscan(embeds=strategy_embeddings)\n",
    "umap_2D_masked = umap_2D(embeds=strategy_embeddings)"
   ]
  },
  {
   "cell_type": "code",
   "execution_count": null,
   "metadata": {},
   "outputs": [],
   "source": [
    "# show plot\n",
    "h = plot_ER_atlas(umap_2D_masked, hdbscan_fin, (3, 13), (5, 15))\n",
    "show(h)"
   ]
  },
  {
   "cell_type": "markdown",
   "metadata": {},
   "source": [
    "### Inspect clusters for interpretation"
   ]
  },
  {
   "cell_type": "code",
   "execution_count": null,
   "metadata": {},
   "outputs": [],
   "source": [
    "# create dataframe with sentences and cluster labels\n",
    "label_df = pd.DataFrame(strategies, columns=['Strategy'])\n",
    "label_df['Label'] = hdbscan_fin.labels_"
   ]
  },
  {
   "cell_type": "code",
   "execution_count": null,
   "metadata": {},
   "outputs": [],
   "source": [
    "# print sentences for cluster CLUSTER\n",
    "CLUSTER = # EX7.1 YOUR CODE HERE\n",
    "\n",
    "print(f'CLUSTER {CLUSTER}: \\n')\n",
    "for i in label_df[label_df.Label == CLUSTER]['Strategy'].tolist():\n",
    "    print(i)"
   ]
  },
  {
   "cell_type": "code",
   "execution_count": null,
   "metadata": {},
   "outputs": [],
   "source": []
  }
 ],
 "metadata": {
  "colab": {
   "collapsed_sections": [],
   "name": "ClustER_UMAP_feat_HDBSCAN.ipynb",
   "provenance": []
  },
  "kernelspec": {
   "display_name": "Python 3 (ipykernel)",
   "language": "python",
   "name": "python3"
  },
  "language_info": {
   "codemirror_mode": {
    "name": "ipython",
    "version": 3
   },
   "file_extension": ".py",
   "mimetype": "text/x-python",
   "name": "python",
   "nbconvert_exporter": "python",
   "pygments_lexer": "ipython3",
   "version": "3.11.8"
  },
  "widgets": {
   "application/vnd.jupyter.widget-state+json": {
    "13ad6129c3af454bb1db2dcdb19e3c3f": {
     "model_module": "@jupyter-widgets/controls",
     "model_module_version": "1.5.0",
     "model_name": "FloatProgressModel",
     "state": {
      "_dom_classes": [],
      "_model_module": "@jupyter-widgets/controls",
      "_model_module_version": "1.5.0",
      "_model_name": "FloatProgressModel",
      "_view_count": null,
      "_view_module": "@jupyter-widgets/controls",
      "_view_module_version": "1.5.0",
      "_view_name": "ProgressView",
      "bar_style": "success",
      "description": "",
      "description_tooltip": null,
      "layout": "IPY_MODEL_df294223fb1e4e1f9c96ac1ba449076a",
      "max": 189,
      "min": 0,
      "orientation": "horizontal",
      "style": "IPY_MODEL_f2dc7f8f230f4e64b076716e5f327a4d",
      "value": 189
     }
    },
    "4940febc96024fe1a7b9bcc438982bb0": {
     "model_module": "@jupyter-widgets/controls",
     "model_module_version": "1.5.0",
     "model_name": "HTMLModel",
     "state": {
      "_dom_classes": [],
      "_model_module": "@jupyter-widgets/controls",
      "_model_module_version": "1.5.0",
      "_model_name": "HTMLModel",
      "_view_count": null,
      "_view_module": "@jupyter-widgets/controls",
      "_view_module_version": "1.5.0",
      "_view_name": "HTMLView",
      "description": "",
      "description_tooltip": null,
      "layout": "IPY_MODEL_8111d9cbe45e457dbbb0a1885b8d618c",
      "placeholder": "​",
      "style": "IPY_MODEL_806110fc66e242e3b8017a23df718843",
      "value": " 189/189 [00:16&lt;00:00, 22.90it/s]"
     }
    },
    "715335c00ad9443bbd97920f231d85d6": {
     "model_module": "@jupyter-widgets/controls",
     "model_module_version": "1.5.0",
     "model_name": "HTMLModel",
     "state": {
      "_dom_classes": [],
      "_model_module": "@jupyter-widgets/controls",
      "_model_module_version": "1.5.0",
      "_model_name": "HTMLModel",
      "_view_count": null,
      "_view_module": "@jupyter-widgets/controls",
      "_view_module_version": "1.5.0",
      "_view_name": "HTMLView",
      "description": "",
      "description_tooltip": null,
      "layout": "IPY_MODEL_d1b31f700fda47c790ec4d8b076669b0",
      "placeholder": "​",
      "style": "IPY_MODEL_7ca460c08d8c4ffe906d84bafe7530bd",
      "value": "Batches: 100%"
     }
    },
    "7ca460c08d8c4ffe906d84bafe7530bd": {
     "model_module": "@jupyter-widgets/controls",
     "model_module_version": "1.5.0",
     "model_name": "DescriptionStyleModel",
     "state": {
      "_model_module": "@jupyter-widgets/controls",
      "_model_module_version": "1.5.0",
      "_model_name": "DescriptionStyleModel",
      "_view_count": null,
      "_view_module": "@jupyter-widgets/base",
      "_view_module_version": "1.2.0",
      "_view_name": "StyleView",
      "description_width": ""
     }
    },
    "806110fc66e242e3b8017a23df718843": {
     "model_module": "@jupyter-widgets/controls",
     "model_module_version": "1.5.0",
     "model_name": "DescriptionStyleModel",
     "state": {
      "_model_module": "@jupyter-widgets/controls",
      "_model_module_version": "1.5.0",
      "_model_name": "DescriptionStyleModel",
      "_view_count": null,
      "_view_module": "@jupyter-widgets/base",
      "_view_module_version": "1.2.0",
      "_view_name": "StyleView",
      "description_width": ""
     }
    },
    "8111d9cbe45e457dbbb0a1885b8d618c": {
     "model_module": "@jupyter-widgets/base",
     "model_module_version": "1.2.0",
     "model_name": "LayoutModel",
     "state": {
      "_model_module": "@jupyter-widgets/base",
      "_model_module_version": "1.2.0",
      "_model_name": "LayoutModel",
      "_view_count": null,
      "_view_module": "@jupyter-widgets/base",
      "_view_module_version": "1.2.0",
      "_view_name": "LayoutView",
      "align_content": null,
      "align_items": null,
      "align_self": null,
      "border": null,
      "bottom": null,
      "display": null,
      "flex": null,
      "flex_flow": null,
      "grid_area": null,
      "grid_auto_columns": null,
      "grid_auto_flow": null,
      "grid_auto_rows": null,
      "grid_column": null,
      "grid_gap": null,
      "grid_row": null,
      "grid_template_areas": null,
      "grid_template_columns": null,
      "grid_template_rows": null,
      "height": null,
      "justify_content": null,
      "justify_items": null,
      "left": null,
      "margin": null,
      "max_height": null,
      "max_width": null,
      "min_height": null,
      "min_width": null,
      "object_fit": null,
      "object_position": null,
      "order": null,
      "overflow": null,
      "overflow_x": null,
      "overflow_y": null,
      "padding": null,
      "right": null,
      "top": null,
      "visibility": null,
      "width": null
     }
    },
    "d1b31f700fda47c790ec4d8b076669b0": {
     "model_module": "@jupyter-widgets/base",
     "model_module_version": "1.2.0",
     "model_name": "LayoutModel",
     "state": {
      "_model_module": "@jupyter-widgets/base",
      "_model_module_version": "1.2.0",
      "_model_name": "LayoutModel",
      "_view_count": null,
      "_view_module": "@jupyter-widgets/base",
      "_view_module_version": "1.2.0",
      "_view_name": "LayoutView",
      "align_content": null,
      "align_items": null,
      "align_self": null,
      "border": null,
      "bottom": null,
      "display": null,
      "flex": null,
      "flex_flow": null,
      "grid_area": null,
      "grid_auto_columns": null,
      "grid_auto_flow": null,
      "grid_auto_rows": null,
      "grid_column": null,
      "grid_gap": null,
      "grid_row": null,
      "grid_template_areas": null,
      "grid_template_columns": null,
      "grid_template_rows": null,
      "height": null,
      "justify_content": null,
      "justify_items": null,
      "left": null,
      "margin": null,
      "max_height": null,
      "max_width": null,
      "min_height": null,
      "min_width": null,
      "object_fit": null,
      "object_position": null,
      "order": null,
      "overflow": null,
      "overflow_x": null,
      "overflow_y": null,
      "padding": null,
      "right": null,
      "top": null,
      "visibility": null,
      "width": null
     }
    },
    "df294223fb1e4e1f9c96ac1ba449076a": {
     "model_module": "@jupyter-widgets/base",
     "model_module_version": "1.2.0",
     "model_name": "LayoutModel",
     "state": {
      "_model_module": "@jupyter-widgets/base",
      "_model_module_version": "1.2.0",
      "_model_name": "LayoutModel",
      "_view_count": null,
      "_view_module": "@jupyter-widgets/base",
      "_view_module_version": "1.2.0",
      "_view_name": "LayoutView",
      "align_content": null,
      "align_items": null,
      "align_self": null,
      "border": null,
      "bottom": null,
      "display": null,
      "flex": null,
      "flex_flow": null,
      "grid_area": null,
      "grid_auto_columns": null,
      "grid_auto_flow": null,
      "grid_auto_rows": null,
      "grid_column": null,
      "grid_gap": null,
      "grid_row": null,
      "grid_template_areas": null,
      "grid_template_columns": null,
      "grid_template_rows": null,
      "height": null,
      "justify_content": null,
      "justify_items": null,
      "left": null,
      "margin": null,
      "max_height": null,
      "max_width": null,
      "min_height": null,
      "min_width": null,
      "object_fit": null,
      "object_position": null,
      "order": null,
      "overflow": null,
      "overflow_x": null,
      "overflow_y": null,
      "padding": null,
      "right": null,
      "top": null,
      "visibility": null,
      "width": null
     }
    },
    "f2dc7f8f230f4e64b076716e5f327a4d": {
     "model_module": "@jupyter-widgets/controls",
     "model_module_version": "1.5.0",
     "model_name": "ProgressStyleModel",
     "state": {
      "_model_module": "@jupyter-widgets/controls",
      "_model_module_version": "1.5.0",
      "_model_name": "ProgressStyleModel",
      "_view_count": null,
      "_view_module": "@jupyter-widgets/base",
      "_view_module_version": "1.2.0",
      "_view_name": "StyleView",
      "bar_color": null,
      "description_width": ""
     }
    },
    "f4c1af507a3e4879a7503b9c5fb97abf": {
     "model_module": "@jupyter-widgets/base",
     "model_module_version": "1.2.0",
     "model_name": "LayoutModel",
     "state": {
      "_model_module": "@jupyter-widgets/base",
      "_model_module_version": "1.2.0",
      "_model_name": "LayoutModel",
      "_view_count": null,
      "_view_module": "@jupyter-widgets/base",
      "_view_module_version": "1.2.0",
      "_view_name": "LayoutView",
      "align_content": null,
      "align_items": null,
      "align_self": null,
      "border": null,
      "bottom": null,
      "display": null,
      "flex": null,
      "flex_flow": null,
      "grid_area": null,
      "grid_auto_columns": null,
      "grid_auto_flow": null,
      "grid_auto_rows": null,
      "grid_column": null,
      "grid_gap": null,
      "grid_row": null,
      "grid_template_areas": null,
      "grid_template_columns": null,
      "grid_template_rows": null,
      "height": null,
      "justify_content": null,
      "justify_items": null,
      "left": null,
      "margin": null,
      "max_height": null,
      "max_width": null,
      "min_height": null,
      "min_width": null,
      "object_fit": null,
      "object_position": null,
      "order": null,
      "overflow": null,
      "overflow_x": null,
      "overflow_y": null,
      "padding": null,
      "right": null,
      "top": null,
      "visibility": null,
      "width": null
     }
    },
    "f4e8f4ac221a477caece692e3bba87d4": {
     "model_module": "@jupyter-widgets/controls",
     "model_module_version": "1.5.0",
     "model_name": "HBoxModel",
     "state": {
      "_dom_classes": [],
      "_model_module": "@jupyter-widgets/controls",
      "_model_module_version": "1.5.0",
      "_model_name": "HBoxModel",
      "_view_count": null,
      "_view_module": "@jupyter-widgets/controls",
      "_view_module_version": "1.5.0",
      "_view_name": "HBoxView",
      "box_style": "",
      "children": [
       "IPY_MODEL_715335c00ad9443bbd97920f231d85d6",
       "IPY_MODEL_13ad6129c3af454bb1db2dcdb19e3c3f",
       "IPY_MODEL_4940febc96024fe1a7b9bcc438982bb0"
      ],
      "layout": "IPY_MODEL_f4c1af507a3e4879a7503b9c5fb97abf"
     }
    }
   }
  }
 },
 "nbformat": 4,
 "nbformat_minor": 4
}
